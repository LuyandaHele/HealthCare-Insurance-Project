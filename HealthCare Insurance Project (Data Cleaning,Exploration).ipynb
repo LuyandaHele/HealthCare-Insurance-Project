{
 "cells": [
  {
   "cell_type": "code",
   "execution_count": 1,
   "id": "d7471aab",
   "metadata": {},
   "outputs": [],
   "source": [
    "import pandas as pd\n",
    "import numpy as np\n",
    "import seaborn as sns\n",
    "import matplotlib.pyplot as plt \n"
   ]
  },
  {
   "cell_type": "code",
   "execution_count": 2,
   "id": "2b1ea336",
   "metadata": {},
   "outputs": [],
   "source": [
    "insurance_df = pd.read_csv('insurance.csv')"
   ]
  },
  {
   "cell_type": "code",
   "execution_count": 3,
   "id": "29ca54b7",
   "metadata": {},
   "outputs": [],
   "source": [
    "#Rounding off numbers in 'bmi' and charges column\n",
    "insurance_df['bmi']=insurance_df['bmi'].round(1)\n",
    "insurance_df['charges']=insurance_df['charges'].round(2)"
   ]
  },
  {
   "cell_type": "code",
   "execution_count": 4,
   "id": "bccab6f0",
   "metadata": {},
   "outputs": [
    {
     "data": {
      "text/html": [
       "<div>\n",
       "<style scoped>\n",
       "    .dataframe tbody tr th:only-of-type {\n",
       "        vertical-align: middle;\n",
       "    }\n",
       "\n",
       "    .dataframe tbody tr th {\n",
       "        vertical-align: top;\n",
       "    }\n",
       "\n",
       "    .dataframe thead th {\n",
       "        text-align: right;\n",
       "    }\n",
       "</style>\n",
       "<table border=\"1\" class=\"dataframe\">\n",
       "  <thead>\n",
       "    <tr style=\"text-align: right;\">\n",
       "      <th></th>\n",
       "      <th>age</th>\n",
       "      <th>sex</th>\n",
       "      <th>bmi</th>\n",
       "      <th>children</th>\n",
       "      <th>smoker</th>\n",
       "      <th>region</th>\n",
       "      <th>charges</th>\n",
       "    </tr>\n",
       "  </thead>\n",
       "  <tbody>\n",
       "    <tr>\n",
       "      <th>0</th>\n",
       "      <td>19</td>\n",
       "      <td>female</td>\n",
       "      <td>27.9</td>\n",
       "      <td>0</td>\n",
       "      <td>yes</td>\n",
       "      <td>southwest</td>\n",
       "      <td>16884.92</td>\n",
       "    </tr>\n",
       "    <tr>\n",
       "      <th>1</th>\n",
       "      <td>18</td>\n",
       "      <td>male</td>\n",
       "      <td>33.8</td>\n",
       "      <td>1</td>\n",
       "      <td>no</td>\n",
       "      <td>southeast</td>\n",
       "      <td>1725.55</td>\n",
       "    </tr>\n",
       "    <tr>\n",
       "      <th>2</th>\n",
       "      <td>28</td>\n",
       "      <td>male</td>\n",
       "      <td>33.0</td>\n",
       "      <td>3</td>\n",
       "      <td>no</td>\n",
       "      <td>southeast</td>\n",
       "      <td>4449.46</td>\n",
       "    </tr>\n",
       "    <tr>\n",
       "      <th>3</th>\n",
       "      <td>33</td>\n",
       "      <td>male</td>\n",
       "      <td>22.7</td>\n",
       "      <td>0</td>\n",
       "      <td>no</td>\n",
       "      <td>northwest</td>\n",
       "      <td>21984.47</td>\n",
       "    </tr>\n",
       "    <tr>\n",
       "      <th>4</th>\n",
       "      <td>32</td>\n",
       "      <td>male</td>\n",
       "      <td>28.9</td>\n",
       "      <td>0</td>\n",
       "      <td>no</td>\n",
       "      <td>northwest</td>\n",
       "      <td>3866.86</td>\n",
       "    </tr>\n",
       "    <tr>\n",
       "      <th>...</th>\n",
       "      <td>...</td>\n",
       "      <td>...</td>\n",
       "      <td>...</td>\n",
       "      <td>...</td>\n",
       "      <td>...</td>\n",
       "      <td>...</td>\n",
       "      <td>...</td>\n",
       "    </tr>\n",
       "    <tr>\n",
       "      <th>1333</th>\n",
       "      <td>50</td>\n",
       "      <td>male</td>\n",
       "      <td>31.0</td>\n",
       "      <td>3</td>\n",
       "      <td>no</td>\n",
       "      <td>northwest</td>\n",
       "      <td>10600.55</td>\n",
       "    </tr>\n",
       "    <tr>\n",
       "      <th>1334</th>\n",
       "      <td>18</td>\n",
       "      <td>female</td>\n",
       "      <td>31.9</td>\n",
       "      <td>0</td>\n",
       "      <td>no</td>\n",
       "      <td>northeast</td>\n",
       "      <td>2205.98</td>\n",
       "    </tr>\n",
       "    <tr>\n",
       "      <th>1335</th>\n",
       "      <td>18</td>\n",
       "      <td>female</td>\n",
       "      <td>36.8</td>\n",
       "      <td>0</td>\n",
       "      <td>no</td>\n",
       "      <td>southeast</td>\n",
       "      <td>1629.83</td>\n",
       "    </tr>\n",
       "    <tr>\n",
       "      <th>1336</th>\n",
       "      <td>21</td>\n",
       "      <td>female</td>\n",
       "      <td>25.8</td>\n",
       "      <td>0</td>\n",
       "      <td>no</td>\n",
       "      <td>southwest</td>\n",
       "      <td>2007.94</td>\n",
       "    </tr>\n",
       "    <tr>\n",
       "      <th>1337</th>\n",
       "      <td>61</td>\n",
       "      <td>female</td>\n",
       "      <td>29.1</td>\n",
       "      <td>0</td>\n",
       "      <td>yes</td>\n",
       "      <td>northwest</td>\n",
       "      <td>29141.36</td>\n",
       "    </tr>\n",
       "  </tbody>\n",
       "</table>\n",
       "<p>1338 rows × 7 columns</p>\n",
       "</div>"
      ],
      "text/plain": [
       "      age     sex   bmi  children smoker     region   charges\n",
       "0      19  female  27.9         0    yes  southwest  16884.92\n",
       "1      18    male  33.8         1     no  southeast   1725.55\n",
       "2      28    male  33.0         3     no  southeast   4449.46\n",
       "3      33    male  22.7         0     no  northwest  21984.47\n",
       "4      32    male  28.9         0     no  northwest   3866.86\n",
       "...   ...     ...   ...       ...    ...        ...       ...\n",
       "1333   50    male  31.0         3     no  northwest  10600.55\n",
       "1334   18  female  31.9         0     no  northeast   2205.98\n",
       "1335   18  female  36.8         0     no  southeast   1629.83\n",
       "1336   21  female  25.8         0     no  southwest   2007.94\n",
       "1337   61  female  29.1         0    yes  northwest  29141.36\n",
       "\n",
       "[1338 rows x 7 columns]"
      ]
     },
     "execution_count": 4,
     "metadata": {},
     "output_type": "execute_result"
    }
   ],
   "source": [
    "insurance_df"
   ]
  },
  {
   "cell_type": "code",
   "execution_count": 5,
   "id": "b4dbda2f",
   "metadata": {},
   "outputs": [
    {
     "name": "stdout",
     "output_type": "stream",
     "text": [
      "<class 'pandas.core.frame.DataFrame'>\n",
      "RangeIndex: 1338 entries, 0 to 1337\n",
      "Data columns (total 7 columns):\n",
      " #   Column    Non-Null Count  Dtype  \n",
      "---  ------    --------------  -----  \n",
      " 0   age       1338 non-null   int64  \n",
      " 1   sex       1338 non-null   object \n",
      " 2   bmi       1338 non-null   float64\n",
      " 3   children  1338 non-null   int64  \n",
      " 4   smoker    1338 non-null   object \n",
      " 5   region    1338 non-null   object \n",
      " 6   charges   1338 non-null   float64\n",
      "dtypes: float64(2), int64(2), object(3)\n",
      "memory usage: 73.3+ KB\n"
     ]
    }
   ],
   "source": [
    "insurance_df.info()"
   ]
  },
  {
   "cell_type": "code",
   "execution_count": 6,
   "id": "ee092cf8",
   "metadata": {},
   "outputs": [
    {
     "data": {
      "text/html": [
       "<div>\n",
       "<style scoped>\n",
       "    .dataframe tbody tr th:only-of-type {\n",
       "        vertical-align: middle;\n",
       "    }\n",
       "\n",
       "    .dataframe tbody tr th {\n",
       "        vertical-align: top;\n",
       "    }\n",
       "\n",
       "    .dataframe thead th {\n",
       "        text-align: right;\n",
       "    }\n",
       "</style>\n",
       "<table border=\"1\" class=\"dataframe\">\n",
       "  <thead>\n",
       "    <tr style=\"text-align: right;\">\n",
       "      <th></th>\n",
       "      <th>age</th>\n",
       "      <th>bmi</th>\n",
       "      <th>children</th>\n",
       "      <th>charges</th>\n",
       "    </tr>\n",
       "  </thead>\n",
       "  <tbody>\n",
       "    <tr>\n",
       "      <th>count</th>\n",
       "      <td>1338.000000</td>\n",
       "      <td>1338.000000</td>\n",
       "      <td>1338.000000</td>\n",
       "      <td>1338.000000</td>\n",
       "    </tr>\n",
       "    <tr>\n",
       "      <th>mean</th>\n",
       "      <td>39.207025</td>\n",
       "      <td>30.663303</td>\n",
       "      <td>1.094918</td>\n",
       "      <td>13270.422280</td>\n",
       "    </tr>\n",
       "    <tr>\n",
       "      <th>std</th>\n",
       "      <td>14.049960</td>\n",
       "      <td>6.098257</td>\n",
       "      <td>1.205493</td>\n",
       "      <td>12110.011259</td>\n",
       "    </tr>\n",
       "    <tr>\n",
       "      <th>min</th>\n",
       "      <td>18.000000</td>\n",
       "      <td>16.000000</td>\n",
       "      <td>0.000000</td>\n",
       "      <td>1121.870000</td>\n",
       "    </tr>\n",
       "    <tr>\n",
       "      <th>25%</th>\n",
       "      <td>27.000000</td>\n",
       "      <td>26.300000</td>\n",
       "      <td>0.000000</td>\n",
       "      <td>4740.287500</td>\n",
       "    </tr>\n",
       "    <tr>\n",
       "      <th>50%</th>\n",
       "      <td>39.000000</td>\n",
       "      <td>30.400000</td>\n",
       "      <td>1.000000</td>\n",
       "      <td>9382.030000</td>\n",
       "    </tr>\n",
       "    <tr>\n",
       "      <th>75%</th>\n",
       "      <td>51.000000</td>\n",
       "      <td>34.700000</td>\n",
       "      <td>2.000000</td>\n",
       "      <td>16639.915000</td>\n",
       "    </tr>\n",
       "    <tr>\n",
       "      <th>max</th>\n",
       "      <td>64.000000</td>\n",
       "      <td>53.100000</td>\n",
       "      <td>5.000000</td>\n",
       "      <td>63770.430000</td>\n",
       "    </tr>\n",
       "  </tbody>\n",
       "</table>\n",
       "</div>"
      ],
      "text/plain": [
       "               age          bmi     children       charges\n",
       "count  1338.000000  1338.000000  1338.000000   1338.000000\n",
       "mean     39.207025    30.663303     1.094918  13270.422280\n",
       "std      14.049960     6.098257     1.205493  12110.011259\n",
       "min      18.000000    16.000000     0.000000   1121.870000\n",
       "25%      27.000000    26.300000     0.000000   4740.287500\n",
       "50%      39.000000    30.400000     1.000000   9382.030000\n",
       "75%      51.000000    34.700000     2.000000  16639.915000\n",
       "max      64.000000    53.100000     5.000000  63770.430000"
      ]
     },
     "execution_count": 6,
     "metadata": {},
     "output_type": "execute_result"
    }
   ],
   "source": [
    "insurance_df.describe()"
   ]
  },
  {
   "cell_type": "code",
   "execution_count": 7,
   "id": "599be493",
   "metadata": {},
   "outputs": [],
   "source": [
    "#Average Age\n",
    "Average_Age =insurance_df['age'].mean().round(0)"
   ]
  },
  {
   "cell_type": "code",
   "execution_count": 8,
   "id": "94162d6f",
   "metadata": {},
   "outputs": [],
   "source": [
    "#Body Mass Index Average\n",
    "Average_Bmi = insurance_df['bmi'].mean().round(1)"
   ]
  },
  {
   "cell_type": "code",
   "execution_count": 9,
   "id": "6e4e429c",
   "metadata": {},
   "outputs": [],
   "source": [
    "#Number of Children Average\n",
    "Average_Number_Childern_By_Gender = insurance_df['children'].mean().round(0)"
   ]
  },
  {
   "cell_type": "code",
   "execution_count": 10,
   "id": "4aaa34b9",
   "metadata": {},
   "outputs": [],
   "source": [
    "#Average Insurance Charges\n",
    "Average_Insurance_Charges = insurance_df['charges'].mean().round(2)"
   ]
  },
  {
   "cell_type": "code",
   "execution_count": 11,
   "id": "86e4e815",
   "metadata": {},
   "outputs": [
    {
     "data": {
      "text/plain": [
       "age         0\n",
       "sex         0\n",
       "bmi         0\n",
       "children    0\n",
       "smoker      0\n",
       "region      0\n",
       "charges     0\n",
       "dtype: int64"
      ]
     },
     "execution_count": 11,
     "metadata": {},
     "output_type": "execute_result"
    }
   ],
   "source": [
    "#Checking null values in Data\n",
    "insurance_df.isna().sum()"
   ]
  },
  {
   "cell_type": "code",
   "execution_count": 12,
   "id": "f1be0523",
   "metadata": {},
   "outputs": [],
   "source": [
    "# Data Exploration"
   ]
  },
  {
   "cell_type": "code",
   "execution_count": 13,
   "id": "b8a99766",
   "metadata": {},
   "outputs": [
    {
     "data": {
      "text/plain": [
       "47"
      ]
     },
     "execution_count": 13,
     "metadata": {},
     "output_type": "execute_result"
    }
   ],
   "source": [
    "insurance_df['age'].nunique()"
   ]
  },
  {
   "cell_type": "code",
   "execution_count": 14,
   "id": "61ab7299",
   "metadata": {},
   "outputs": [
    {
     "data": {
      "text/plain": [
       "18"
      ]
     },
     "execution_count": 14,
     "metadata": {},
     "output_type": "execute_result"
    }
   ],
   "source": [
    "# Youngest And Oldest Age \n",
    "insurance_df['age'].min()"
   ]
  },
  {
   "cell_type": "code",
   "execution_count": 15,
   "id": "efea8f10",
   "metadata": {},
   "outputs": [
    {
     "data": {
      "text/plain": [
       "64"
      ]
     },
     "execution_count": 15,
     "metadata": {},
     "output_type": "execute_result"
    }
   ],
   "source": [
    "insurance_df['age'].max()"
   ]
  },
  {
   "cell_type": "code",
   "execution_count": 16,
   "id": "fa1890e9",
   "metadata": {},
   "outputs": [
    {
     "data": {
      "text/plain": [
       "array([19, 18, 28, 33, 32, 31, 46, 37, 60, 25, 62, 23, 56, 27, 52, 30, 34,\n",
       "       59, 63, 55, 22, 26, 35, 24, 41, 38, 36, 21, 48, 40, 58, 53, 43, 64,\n",
       "       20, 61, 44, 57, 29, 45, 54, 49, 47, 51, 42, 50, 39], dtype=int64)"
      ]
     },
     "execution_count": 16,
     "metadata": {},
     "output_type": "execute_result"
    }
   ],
   "source": [
    "insurance_df['age'].unique()"
   ]
  },
  {
   "cell_type": "code",
   "execution_count": 17,
   "id": "5da923da",
   "metadata": {},
   "outputs": [],
   "source": [
    "# Number of Males And Females Overall \n",
    "Number_per_gender = insurance_df['sex'].value_counts()"
   ]
  },
  {
   "cell_type": "code",
   "execution_count": 18,
   "id": "d841fa5b",
   "metadata": {},
   "outputs": [
    {
     "data": {
      "text/plain": [
       "array(['female', 'male'], dtype=object)"
      ]
     },
     "execution_count": 18,
     "metadata": {},
     "output_type": "execute_result"
    }
   ],
   "source": [
    "insurance_df['sex'].unique()"
   ]
  },
  {
   "cell_type": "code",
   "execution_count": 19,
   "id": "ca84821d",
   "metadata": {},
   "outputs": [
    {
     "data": {
      "text/plain": [
       "274"
      ]
     },
     "execution_count": 19,
     "metadata": {},
     "output_type": "execute_result"
    }
   ],
   "source": [
    "# Total Body Mass Index(BMI)\n",
    "insurance_df['bmi'].nunique()"
   ]
  },
  {
   "cell_type": "code",
   "execution_count": 20,
   "id": "28034d05",
   "metadata": {},
   "outputs": [],
   "source": [
    "# Number of smokers and non-smokers\n",
    "Number_of_smokers_nonsmokers = insurance_df['smoker'].value_counts()\n"
   ]
  },
  {
   "cell_type": "code",
   "execution_count": 21,
   "id": "5509735f",
   "metadata": {},
   "outputs": [
    {
     "data": {
      "text/plain": [
       "array(['yes', 'no'], dtype=object)"
      ]
     },
     "execution_count": 21,
     "metadata": {},
     "output_type": "execute_result"
    }
   ],
   "source": [
    "insurance_df['smoker'].unique()"
   ]
  },
  {
   "cell_type": "code",
   "execution_count": 22,
   "id": "1edc8168",
   "metadata": {},
   "outputs": [],
   "source": [
    "# Number Per Region Area\n",
    "Number_Per_Region_Area = insurance_df['region'].value_counts()"
   ]
  },
  {
   "cell_type": "code",
   "execution_count": 23,
   "id": "c5fcf694",
   "metadata": {},
   "outputs": [
    {
     "data": {
      "text/plain": [
       "array(['southwest', 'southeast', 'northwest', 'northeast'], dtype=object)"
      ]
     },
     "execution_count": 23,
     "metadata": {},
     "output_type": "execute_result"
    }
   ],
   "source": [
    "insurance_df['region'].unique()"
   ]
  },
  {
   "cell_type": "code",
   "execution_count": 24,
   "id": "5ecc8c37",
   "metadata": {},
   "outputs": [],
   "source": [
    "# Data Analysis"
   ]
  },
  {
   "cell_type": "code",
   "execution_count": 25,
   "id": "82cb9e28",
   "metadata": {},
   "outputs": [],
   "source": [
    "# Does Gender and Age Have An Effect On Insurance Charges\n",
    "Insurance_Charges_On_Gender = insurance_df.groupby('sex')['charges'].mean().nlargest().round(2)"
   ]
  },
  {
   "cell_type": "code",
   "execution_count": 26,
   "id": "80330fe6",
   "metadata": {},
   "outputs": [],
   "source": [
    "Insurance_Charges_On_Age = insurance_df.groupby('age')['charges'].mean().nlargest(47).round(2)"
   ]
  },
  {
   "cell_type": "code",
   "execution_count": 27,
   "id": "ca0fcb69",
   "metadata": {},
   "outputs": [
    {
     "data": {
      "text/plain": [
       "children\n",
       "3    15355.32\n",
       "2    15073.56\n",
       "4    13850.66\n",
       "1    12731.17\n",
       "0    12365.98\n",
       "5     8786.04\n",
       "Name: charges, dtype: float64"
      ]
     },
     "execution_count": 27,
     "metadata": {},
     "output_type": "execute_result"
    }
   ],
   "source": [
    "#Does Gender And Number of Children Have An Effect On Insurance Charges \n",
    "insurance_df.groupby('children')['charges'].mean().nlargest(6).round(2)"
   ]
  },
  {
   "cell_type": "code",
   "execution_count": 28,
   "id": "834eb238",
   "metadata": {},
   "outputs": [
    {
     "data": {
      "text/plain": [
       "6"
      ]
     },
     "execution_count": 28,
     "metadata": {},
     "output_type": "execute_result"
    }
   ],
   "source": [
    "insurance_df['children'].nunique()"
   ]
  },
  {
   "cell_type": "code",
   "execution_count": 29,
   "id": "9441ccc7",
   "metadata": {},
   "outputs": [],
   "source": [
    "Gender_Number_Of_Children_Effect_On_Insurance = insurance_df.groupby(['sex','children'])['charges'].mean().reset_index().round(2)"
   ]
  },
  {
   "cell_type": "code",
   "execution_count": 30,
   "id": "4b4a9895",
   "metadata": {},
   "outputs": [],
   "source": [
    "#Does Smoker or Non-Smoker Have An Effect On Insurance Charges \n",
    "Smokers_Effect_On_Insurance_Charges = insurance_df.groupby('smoker')['charges'].mean().round(2)"
   ]
  },
  {
   "cell_type": "code",
   "execution_count": 31,
   "id": "48a6aa6b",
   "metadata": {},
   "outputs": [
    {
     "data": {
      "text/plain": [
       "274"
      ]
     },
     "execution_count": 31,
     "metadata": {},
     "output_type": "execute_result"
    }
   ],
   "source": [
    "insurance_df['bmi'].nunique()"
   ]
  },
  {
   "cell_type": "code",
   "execution_count": 32,
   "id": "49a954aa",
   "metadata": {},
   "outputs": [],
   "source": [
    "#  Does Age Alone Have An Effect On Insurance Charges \n",
    "Age_Effect_On_Insurance_Charges = insurance_df.groupby('age')['charges'].mean().nlargest(47).round(2)"
   ]
  },
  {
   "cell_type": "code",
   "execution_count": 33,
   "id": "f6d295b1",
   "metadata": {},
   "outputs": [],
   "source": [
    "# Does Region Alone Have An Effect On Insurance Charges\n",
    "Region_Effect_On_Insurance_Charges = insurance_df.groupby('region')['charges'].mean().nlargest(4).round(2)"
   ]
  },
  {
   "cell_type": "code",
   "execution_count": 34,
   "id": "cfc5287d",
   "metadata": {},
   "outputs": [],
   "source": [
    "# Does Body Mass Index Alone Have An Effetc On Insurance Charges \n",
    "Bmi_Effect_On_Insurance_Charges = insurance_df.groupby('bmi')['charges'].mean().nlargest(274).round(2)"
   ]
  },
  {
   "cell_type": "code",
   "execution_count": 35,
   "id": "9b68b916",
   "metadata": {},
   "outputs": [],
   "source": [
    "#Does Gender And Smoker Type Have An Effect On Insurance Charges \n",
    "Gender_And_Smoker_Type_Insurance_Charges = insurance_df.groupby(['sex','smoker'])['charges'].mean().nlargest()"
   ]
  },
  {
   "cell_type": "code",
   "execution_count": 86,
   "id": "750ff9b0",
   "metadata": {},
   "outputs": [],
   "source": [
    "# Does Gender,Age And Smoker Type Have An Effect On Insurance Charges\n",
    "Gender_Age_Smoker_Type_Effect_On_Insurance_Charges = insurance_df.groupby(['sex','age','smoker'])['charges'].mean().nlargest(64).round(2)"
   ]
  },
  {
   "cell_type": "code",
   "execution_count": 37,
   "id": "d86340bd",
   "metadata": {},
   "outputs": [],
   "source": [
    "#Does Age And Body Mass Index Have An Effect On Insurance Charges \n",
    "# Group by 'age' and 'bmi', calculate the mean of 'charges', and sort by largest values\n",
    "Age_BodyMass_Effect_On_Charges = insurance_df.groupby(['age', 'bmi'])['charges'].mean().sort_values(ascending=False).head(64)"
   ]
  },
  {
   "cell_type": "code",
   "execution_count": 38,
   "id": "0d6ed098",
   "metadata": {},
   "outputs": [
    {
     "data": {
      "text/plain": [
       "age  bmi \n",
       "54   47.4    63770.43\n",
       "45   30.4    62592.87\n",
       "52   34.5    60021.40\n",
       "31   38.1    58571.07\n",
       "33   35.5    55135.40\n",
       "               ...   \n",
       "50   31.8    41097.16\n",
       "43   35.0    41034.22\n",
       "48   33.1    40974.16\n",
       "30   39.0    40932.43\n",
       "23   42.8    40904.20\n",
       "Name: charges, Length: 64, dtype: float64"
      ]
     },
     "execution_count": 38,
     "metadata": {},
     "output_type": "execute_result"
    }
   ],
   "source": [
    "Age_BodyMass_Effect_On_Charges"
   ]
  },
  {
   "cell_type": "code",
   "execution_count": 39,
   "id": "e3a7ba2c",
   "metadata": {},
   "outputs": [],
   "source": [
    "#Does Age And Children Have An Effect On Insurance Charges\n",
    "Age_Children_Effect_On_Insurance_Charges = insurance_df.groupby(['age', 'children'])['charges'].mean().nlargest(64).round(2)\n"
   ]
  },
  {
   "cell_type": "code",
   "execution_count": 74,
   "id": "5a170450",
   "metadata": {},
   "outputs": [
    {
     "data": {
      "text/plain": [
       "age  children\n",
       "63   2           47305.30\n",
       "61   1           41596.70\n",
       "37   4           40182.25\n",
       "20   3           37465.34\n",
       "61   4           36580.28\n",
       "                   ...   \n",
       "62   0           17226.85\n",
       "61   0           17196.93\n",
       "24   4           17128.43\n",
       "30   0           17024.91\n",
       "55   3           16895.97\n",
       "Name: charges, Length: 64, dtype: float64"
      ]
     },
     "execution_count": 74,
     "metadata": {},
     "output_type": "execute_result"
    }
   ],
   "source": [
    "Age_Children_Effect_On_Insurance_Charges"
   ]
  },
  {
   "cell_type": "code",
   "execution_count": 82,
   "id": "35fca1fb",
   "metadata": {},
   "outputs": [],
   "source": [
    "#Does Gender And Body Mass Index Have An Effect On Insurance Charges \n",
    "Gender_Body_Mass_Index_Effect_On_Insurance_Charges = insurance_df.groupby(['sex','bmi'])['charges'].mean().nlargest(274).round(2)"
   ]
  },
  {
   "cell_type": "code",
   "execution_count": 79,
   "id": "e98e5c58",
   "metadata": {},
   "outputs": [
    {
     "data": {
      "text/plain": [
       "274"
      ]
     },
     "execution_count": 79,
     "metadata": {},
     "output_type": "execute_result"
    }
   ],
   "source": [
    "insurance_df['bmi'].nunique()"
   ]
  },
  {
   "cell_type": "code",
   "execution_count": 105,
   "id": "ba3c43be",
   "metadata": {},
   "outputs": [],
   "source": [
    "# Avg Age DataFrame\n",
    "avg = pd.Series(['Average'])\n",
    "num = pd.Series([39])\n",
    "data = {'Average':avg, 'Age':num}\n",
    "DF_Average_Age_Insurance = pd.DataFrame(data)"
   ]
  },
  {
   "cell_type": "code",
   "execution_count": 107,
   "id": "beac4b08",
   "metadata": {},
   "outputs": [],
   "source": [
    "DF_Average_Age_Insurance.to_csv('DF_Average_Age_For_Insurers.csv',index=False)"
   ]
  },
  {
   "cell_type": "code",
   "execution_count": 43,
   "id": "a3cffbf1",
   "metadata": {},
   "outputs": [
    {
     "data": {
      "text/plain": [
       "30.7"
      ]
     },
     "execution_count": 43,
     "metadata": {},
     "output_type": "execute_result"
    }
   ],
   "source": [
    "Average_Bmi"
   ]
  },
  {
   "cell_type": "code",
   "execution_count": 44,
   "id": "e442bfec",
   "metadata": {},
   "outputs": [],
   "source": [
    "#Average Bmi DataFrame\n",
    "avg = pd.Series(['Average'])\n",
    "num = pd.Series([30.7])\n",
    "data = {'Average':avg,'Total':num}\n",
    "DF_Average_Bmi_Insurance = pd.DataFrame(data)"
   ]
  },
  {
   "cell_type": "code",
   "execution_count": 104,
   "id": "90087a26",
   "metadata": {},
   "outputs": [],
   "source": [
    "DF_Average_Bmi_Insurance.to_csv('DF_Average_Bmi_Insurance.csv',index=False)"
   ]
  },
  {
   "cell_type": "code",
   "execution_count": 46,
   "id": "81e8a908",
   "metadata": {},
   "outputs": [
    {
     "data": {
      "text/plain": [
       "1.0"
      ]
     },
     "execution_count": 46,
     "metadata": {},
     "output_type": "execute_result"
    }
   ],
   "source": [
    "Average_Number_Childern_By_Gender"
   ]
  },
  {
   "cell_type": "code",
   "execution_count": 47,
   "id": "4c41c51e",
   "metadata": {},
   "outputs": [],
   "source": [
    "#Average Num of Children By Gender DataFrame\n",
    "avg = pd.Series(['Average'])\n",
    "num = pd.Series([1])\n",
    "data = {'Average':avg,'Total':num}\n",
    "DF_Average_Number_Children_By_Gender = pd.DataFrame(data)"
   ]
  },
  {
   "cell_type": "code",
   "execution_count": 103,
   "id": "37e4d9e0",
   "metadata": {},
   "outputs": [],
   "source": [
    "DF_Average_Number_Children_By_Gender.to_csv('DF_Average_Number_Children_By_Gender.csv',index=False)"
   ]
  },
  {
   "cell_type": "code",
   "execution_count": 49,
   "id": "c33c4073",
   "metadata": {},
   "outputs": [
    {
     "data": {
      "text/plain": [
       "13270.42"
      ]
     },
     "execution_count": 49,
     "metadata": {},
     "output_type": "execute_result"
    }
   ],
   "source": [
    "Average_Insurance_Charges"
   ]
  },
  {
   "cell_type": "code",
   "execution_count": 50,
   "id": "1a2f9391",
   "metadata": {},
   "outputs": [],
   "source": [
    "#Average Insurance Charge DataFrame\n",
    "avg = pd.Series(['Average'])\n",
    "num = pd.Series([13270.42])\n",
    "data = {'Average':avg, 'Total':num}\n",
    "DF_Average_Insurance_Charges = pd.DataFrame(data)"
   ]
  },
  {
   "cell_type": "code",
   "execution_count": 102,
   "id": "0cf0c2d9",
   "metadata": {},
   "outputs": [],
   "source": [
    "DF_Average_Insurance_Charges.to_csv('DF_Average_Insurance_Charges.csv',index=False)"
   ]
  },
  {
   "cell_type": "code",
   "execution_count": 52,
   "id": "0039155d",
   "metadata": {},
   "outputs": [
    {
     "data": {
      "text/plain": [
       "sex\n",
       "male      13956.75\n",
       "female    12569.58\n",
       "Name: charges, dtype: float64"
      ]
     },
     "execution_count": 52,
     "metadata": {},
     "output_type": "execute_result"
    }
   ],
   "source": [
    "Insurance_Charges_On_Gender"
   ]
  },
  {
   "cell_type": "code",
   "execution_count": 53,
   "id": "0a1b99ca",
   "metadata": {},
   "outputs": [],
   "source": [
    "# Insurance Charges On Gender DataFrame\n",
    "sex = pd.Series(['Male','Female'])\n",
    "num = pd.Series([13956.75,12569.58])\n",
    "data = {'Gender':sex,'Insurance Charges':num}\n",
    "DF_Insurance_Charges_On_Gender = pd.DataFrame(data)"
   ]
  },
  {
   "cell_type": "code",
   "execution_count": 101,
   "id": "f381f3c4",
   "metadata": {},
   "outputs": [],
   "source": [
    "DF_Insurance_Charges_On_Gender.to_csv('DF_Insurance_Charges_On_Gender.csv',index=False)"
   ]
  },
  {
   "cell_type": "code",
   "execution_count": 54,
   "id": "9508c58c",
   "metadata": {},
   "outputs": [
    {
     "data": {
      "text/plain": [
       "age\n",
       "64    23275.53\n",
       "61    22024.46\n",
       "60    21979.42\n",
       "63    19885.00\n",
       "43    19267.28\n",
       "62    19163.86\n",
       "59    18895.87\n",
       "54    18758.55\n",
       "52    18256.27\n",
       "37    18019.91\n",
       "47    17654.00\n",
       "57    16447.19\n",
       "55    16164.54\n",
       "53    16020.93\n",
       "44    15859.40\n",
       "51    15682.26\n",
       "50    15663.00\n",
       "56    15025.52\n",
       "45    14830.20\n",
       "48    14632.50\n",
       "46    14342.59\n",
       "58    13878.93\n",
       "42    13061.04\n",
       "30    12719.11\n",
       "49    12696.01\n",
       "23    12419.82\n",
       "33    12351.53\n",
       "36    12204.48\n",
       "27    12184.70\n",
       "39    11778.24\n",
       "40    11772.25\n",
       "34    11613.53\n",
       "35    11307.18\n",
       "24    10648.02\n",
       "29    10430.16\n",
       "31    10196.98\n",
       "20    10159.70\n",
       "22    10012.93\n",
       "25     9838.36\n",
       "19     9747.91\n",
       "41     9653.75\n",
       "32     9220.30\n",
       "28     9069.19\n",
       "38     8102.73\n",
       "18     7086.22\n",
       "26     6133.83\n",
       "21     4730.46\n",
       "Name: charges, dtype: float64"
      ]
     },
     "execution_count": 54,
     "metadata": {},
     "output_type": "execute_result"
    }
   ],
   "source": [
    "Insurance_Charges_On_Age "
   ]
  },
  {
   "cell_type": "code",
   "execution_count": 55,
   "id": "6194ca4f",
   "metadata": {},
   "outputs": [],
   "source": [
    "# Insurance Charges On Age DataFrame\n",
    "age = pd.Series(['64','61','60','63','43','62','59','54','52','37','47','57','55','53','44','51','50','56','45','48','46',\n",
    "                '58','42','30','49','23','33','36','27','39','40','34','35','24','29','31','20','22','25','19','41','32','28',\n",
    "                '38','18','26','21'])\n",
    "num = pd.Series([23275.53,22024.46,21979.42,19885.00,19267.28,19163.86,18895.87,18758.55,18256.27,18019.91,17654.00,16447.19,16164.54,\n",
    "                16020.93,15859.40,15682.26,15663.00,15025.52,14830.20,14632.50,14342.59,13878.93,13061.04,12719.11,12696.01,12419.82,12351.53,\n",
    "                12204.48,12184.70,11778.24,11772.25,11613.53,11307.18,10648.02,10430.16,10196.98,10159.70,10012.93,9838.36,9747.91,9653.75,9220.30,\n",
    "                9069.19,8102.73,7086.22,6133.83,4730.46])\n",
    "data = {'Age':age,'Insurance Charge':num}\n",
    "DF_Insurance_Charge_According_To_Age = pd.DataFrame(data)"
   ]
  },
  {
   "cell_type": "code",
   "execution_count": 99,
   "id": "5ba7fbc5",
   "metadata": {},
   "outputs": [],
   "source": [
    "DF_Insurance_Charge_According_To_Age.to_csv('DF_Insurance_Charge_According_To_Age.csv',index=False)"
   ]
  },
  {
   "cell_type": "code",
   "execution_count": 57,
   "id": "67763a42",
   "metadata": {},
   "outputs": [
    {
     "data": {
      "text/html": [
       "<div>\n",
       "<style scoped>\n",
       "    .dataframe tbody tr th:only-of-type {\n",
       "        vertical-align: middle;\n",
       "    }\n",
       "\n",
       "    .dataframe tbody tr th {\n",
       "        vertical-align: top;\n",
       "    }\n",
       "\n",
       "    .dataframe thead th {\n",
       "        text-align: right;\n",
       "    }\n",
       "</style>\n",
       "<table border=\"1\" class=\"dataframe\">\n",
       "  <thead>\n",
       "    <tr style=\"text-align: right;\">\n",
       "      <th></th>\n",
       "      <th>sex</th>\n",
       "      <th>children</th>\n",
       "      <th>charges</th>\n",
       "    </tr>\n",
       "  </thead>\n",
       "  <tbody>\n",
       "    <tr>\n",
       "      <th>0</th>\n",
       "      <td>female</td>\n",
       "      <td>0</td>\n",
       "      <td>11905.71</td>\n",
       "    </tr>\n",
       "    <tr>\n",
       "      <th>1</th>\n",
       "      <td>female</td>\n",
       "      <td>1</td>\n",
       "      <td>12161.36</td>\n",
       "    </tr>\n",
       "    <tr>\n",
       "      <th>2</th>\n",
       "      <td>female</td>\n",
       "      <td>2</td>\n",
       "      <td>13941.32</td>\n",
       "    </tr>\n",
       "    <tr>\n",
       "      <th>3</th>\n",
       "      <td>female</td>\n",
       "      <td>3</td>\n",
       "      <td>13865.60</td>\n",
       "    </tr>\n",
       "    <tr>\n",
       "      <th>4</th>\n",
       "      <td>female</td>\n",
       "      <td>4</td>\n",
       "      <td>13937.67</td>\n",
       "    </tr>\n",
       "    <tr>\n",
       "      <th>5</th>\n",
       "      <td>female</td>\n",
       "      <td>5</td>\n",
       "      <td>9854.01</td>\n",
       "    </tr>\n",
       "    <tr>\n",
       "      <th>6</th>\n",
       "      <td>male</td>\n",
       "      <td>0</td>\n",
       "      <td>12832.70</td>\n",
       "    </tr>\n",
       "    <tr>\n",
       "      <th>7</th>\n",
       "      <td>male</td>\n",
       "      <td>1</td>\n",
       "      <td>13273.52</td>\n",
       "    </tr>\n",
       "    <tr>\n",
       "      <th>8</th>\n",
       "      <td>male</td>\n",
       "      <td>2</td>\n",
       "      <td>16187.10</td>\n",
       "    </tr>\n",
       "    <tr>\n",
       "      <th>9</th>\n",
       "      <td>male</td>\n",
       "      <td>3</td>\n",
       "      <td>16789.17</td>\n",
       "    </tr>\n",
       "    <tr>\n",
       "      <th>10</th>\n",
       "      <td>male</td>\n",
       "      <td>4</td>\n",
       "      <td>13782.29</td>\n",
       "    </tr>\n",
       "    <tr>\n",
       "      <th>11</th>\n",
       "      <td>male</td>\n",
       "      <td>5</td>\n",
       "      <td>7931.66</td>\n",
       "    </tr>\n",
       "  </tbody>\n",
       "</table>\n",
       "</div>"
      ],
      "text/plain": [
       "       sex  children   charges\n",
       "0   female         0  11905.71\n",
       "1   female         1  12161.36\n",
       "2   female         2  13941.32\n",
       "3   female         3  13865.60\n",
       "4   female         4  13937.67\n",
       "5   female         5   9854.01\n",
       "6     male         0  12832.70\n",
       "7     male         1  13273.52\n",
       "8     male         2  16187.10\n",
       "9     male         3  16789.17\n",
       "10    male         4  13782.29\n",
       "11    male         5   7931.66"
      ]
     },
     "execution_count": 57,
     "metadata": {},
     "output_type": "execute_result"
    }
   ],
   "source": [
    "Gender_Number_Of_Children_Effect_On_Insurance"
   ]
  },
  {
   "cell_type": "code",
   "execution_count": 58,
   "id": "a02e089c",
   "metadata": {},
   "outputs": [],
   "source": [
    "# Gender Number Of Children Effect On Insurance \n",
    "sex = pd.Series(['female','female','female','female','female','female','male','male','male','male','male','male'])\n",
    "num = pd.Series([0,1,2,3,4,5,0,1,2,3,4,5])\n",
    "charge = pd.Series([11905.71,12161.36,13941.32,13865.60,13937.67,9854.01,12832.70,13273.52,16187.10,16789.17,13782.29,7931.66])\n",
    "data = {'Gender':sex,'Number of Children':num,'Insurance Charge':charge}\n",
    "DF_Gender_Number_Of_Children_Effect_On_Insurance = pd.DataFrame(data)"
   ]
  },
  {
   "cell_type": "code",
   "execution_count": 98,
   "id": "891dd7e9",
   "metadata": {},
   "outputs": [],
   "source": [
    "DF_Gender_Number_Of_Children_Effect_On_Insurance.to_csv('DF_Gender_Number_Of_Children_Effect_On_Insurance.csv',index=False)"
   ]
  },
  {
   "cell_type": "code",
   "execution_count": 60,
   "id": "043aaab4",
   "metadata": {},
   "outputs": [
    {
     "data": {
      "text/plain": [
       "smoker\n",
       "no      8434.27\n",
       "yes    32050.23\n",
       "Name: charges, dtype: float64"
      ]
     },
     "execution_count": 60,
     "metadata": {},
     "output_type": "execute_result"
    }
   ],
   "source": [
    "Smokers_Effect_On_Insurance_Charges"
   ]
  },
  {
   "cell_type": "code",
   "execution_count": 61,
   "id": "53b9a45e",
   "metadata": {},
   "outputs": [],
   "source": [
    "# Smokers Effect On Insurance Charges \n",
    "smokers = pd.Series(['No','Yes'])\n",
    "num = pd.Series([8434.27,32050.23])\n",
    "data = {'Smoker':smokers,'Insurance Charge':num}\n",
    "DF_Smokers_Effect_On_Insurance_Charges = pd.DataFrame(data)"
   ]
  },
  {
   "cell_type": "code",
   "execution_count": 97,
   "id": "139730e8",
   "metadata": {},
   "outputs": [],
   "source": [
    "DF_Smokers_Effect_On_Insurance_Charges.to_csv('DF_Smokers_Effect_On_Insurance_Charges.csv',index=False)"
   ]
  },
  {
   "cell_type": "code",
   "execution_count": 63,
   "id": "e82ecd0c",
   "metadata": {},
   "outputs": [
    {
     "data": {
      "text/plain": [
       "region\n",
       "southeast    14735.41\n",
       "northeast    13406.38\n",
       "northwest    12417.58\n",
       "southwest    12346.94\n",
       "Name: charges, dtype: float64"
      ]
     },
     "execution_count": 63,
     "metadata": {},
     "output_type": "execute_result"
    }
   ],
   "source": [
    "Region_Effect_On_Insurance_Charges "
   ]
  },
  {
   "cell_type": "code",
   "execution_count": 64,
   "id": "99a72f71",
   "metadata": {},
   "outputs": [],
   "source": [
    "# Region Effect On Insurance Charges \n",
    "regions = pd.Series(['Southeast','Northeast','Northwest','Southwest'])\n",
    "num = pd.Series([14735.41,13406.38,12417.58,12346.94])\n",
    "data = {'Region':regions,'Insurance Charge':num}\n",
    "DF_Region_Effect_On_Insurance_Charge = pd.DataFrame(data)"
   ]
  },
  {
   "cell_type": "code",
   "execution_count": 96,
   "id": "71892c24",
   "metadata": {},
   "outputs": [],
   "source": [
    "DF_Region_Effect_On_Insurance_Charge.to_csv('DF_Region_Effect_On_Insurance_Charges.csv',index=False)"
   ]
  },
  {
   "cell_type": "code",
   "execution_count": 95,
   "id": "f5cd97bf",
   "metadata": {},
   "outputs": [],
   "source": [
    "# Converting Grouping into a DataFrame And Saving To CSV file\n",
    "Age_BodyMass_Effect_On_Charges.reset_index().to_csv('DF_Age_Bmi_Effect_Insurance_Charge.csv', index=False)"
   ]
  },
  {
   "cell_type": "code",
   "execution_count": 70,
   "id": "f6253075",
   "metadata": {},
   "outputs": [
    {
     "data": {
      "text/plain": [
       "sex     smoker\n",
       "male    yes       33042.01\n",
       "female  yes       30679.00\n",
       "        no         8762.30\n",
       "male    no         8087.20\n",
       "Name: charges, dtype: float64"
      ]
     },
     "execution_count": 70,
     "metadata": {},
     "output_type": "execute_result"
    }
   ],
   "source": [
    "Gender_And_Smoker_Type_Insurance_Charges.round(2)"
   ]
  },
  {
   "cell_type": "code",
   "execution_count": 71,
   "id": "15392d90",
   "metadata": {},
   "outputs": [],
   "source": [
    "sex = pd.Series(['male','female','female','male'])\n",
    "smokers = pd.Series(['Yes','Yes','No','No'])\n",
    "charge = pd.Series([33042.01,30679.00,8762.30,8087.20])\n",
    "data = {'Gender':sex,'Smoker':smokers,'Insurance Charge':charge}\n",
    "DF_Gender_And_Smoker_Type_Effect_On_Insurance_Charge = pd.DataFrame(data)\n"
   ]
  },
  {
   "cell_type": "code",
   "execution_count": 94,
   "id": "3ba73003",
   "metadata": {},
   "outputs": [],
   "source": [
    "DF_Gender_And_Smoker_Type_Effect_On_Insurance_Charge.to_csv('DF_Gender_And_Smoker_Type_Effect_On_Insurance_Charge.csv',index = False)"
   ]
  },
  {
   "cell_type": "code",
   "execution_count": 93,
   "id": "d596ebbb",
   "metadata": {},
   "outputs": [],
   "source": [
    "# Converting Grouping Into a Dataframe and Saving into csv file \n",
    "Age_Children_Effect_On_Insurance_Charges.reset_index().to_csv('DF_Age_Children_Effect_On_Insurance_Charges.csv',index=False)"
   ]
  },
  {
   "cell_type": "code",
   "execution_count": 89,
   "id": "a6bfa745",
   "metadata": {},
   "outputs": [],
   "source": [
    "# Converting Grouping Into a DataFrame and Saving into csv file\n",
    "Age_BodyMass_Effect_On_Charges.reset_index().to_csv('DF_Age_BodyMass_Effect_On_Insurance_Charges.csv',index=False)"
   ]
  },
  {
   "cell_type": "code",
   "execution_count": 84,
   "id": "2c5209db",
   "metadata": {},
   "outputs": [],
   "source": [
    "# Converting Goruping Into a DataFrame And Saving into csv file \n",
    "Gender_Body_Mass_Index_Effect_On_Insurance_Charges.reset_index().to_csv('DF_Gender_Body_Mass_Index_On_Insurance_Charges.csv',index=False)"
   ]
  },
  {
   "cell_type": "code",
   "execution_count": 88,
   "id": "396569d4",
   "metadata": {},
   "outputs": [],
   "source": [
    "# Converting Grouping Into a DataFarme and Saving into csv file\n",
    "Gender_Age_Smoker_Type_Effect_On_Insurance_Charges.reset_index().to_csv('DF_Gender_Age_Smoker_Type_Effect_On_Insurance_Charges.csv',index = False)"
   ]
  },
  {
   "cell_type": "code",
   "execution_count": null,
   "id": "ba22fb05",
   "metadata": {},
   "outputs": [],
   "source": []
  }
 ],
 "metadata": {
  "kernelspec": {
   "display_name": "Python 3 (ipykernel)",
   "language": "python",
   "name": "python3"
  },
  "language_info": {
   "codemirror_mode": {
    "name": "ipython",
    "version": 3
   },
   "file_extension": ".py",
   "mimetype": "text/x-python",
   "name": "python",
   "nbconvert_exporter": "python",
   "pygments_lexer": "ipython3",
   "version": "3.11.5"
  }
 },
 "nbformat": 4,
 "nbformat_minor": 5
}
